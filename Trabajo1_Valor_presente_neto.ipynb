{
  "nbformat": 4,
  "nbformat_minor": 0,
  "metadata": {
    "colab": {
      "provenance": [],
      "toc_visible": true
    },
    "kernelspec": {
      "name": "python3",
      "display_name": "Python 3"
    },
    "language_info": {
      "name": "python"
    }
  },
  "cells": [
    {
      "cell_type": "code",
      "execution_count": null,
      "metadata": {
        "id": "ap-HmIoKLNtG"
      },
      "outputs": [],
      "source": []
    },
    {
      "cell_type": "markdown",
      "source": [
        "#Valor presente neto (VPN)\n",
        "\n",
        "El VPN es una medida financiera que te permite evaluar la viabilidad de un proyecto, calculando la diferencia entre el valor presente de los flujos de caja futuros y la inversión inicial. Si el VPN es positivo, el proyecto es rentable; si es negativo, no lo es."
      ],
      "metadata": {
        "id": "sYJClRhlMUYY"
      }
    },
    {
      "cell_type": "markdown",
      "source": [
        "## Formula valor presente neto (VPN)"
      ],
      "metadata": {
        "id": "yVeGeXl1N0Tj"
      }
    },
    {
      "cell_type": "markdown",
      "source": [
        "Incluye la fórmula del VPN en una celda de Markdown utilizando LaTeX:\n"
      ],
      "metadata": {
        "id": "alz4fxjmOIR8"
      }
    },
    {
      "cell_type": "markdown",
      "source": [
        " \\[\n",
        "  $$\n",
        " VPN = \\sum_{t=0}^{n} \\frac{c_t}{(1+r)^t} - c_0\n",
        " $$\n",
        "\n",
        " \\]\n",
        "\n",
        " Donde:\n",
        "\n",
        "- F\n",
        "t\n",
        "Ft​ es el flujo de caja en el periodo\n",
        "t\n",
        "t.\n",
        "-r\n",
        "r es la tasa de descuento.\n",
        "-C\n",
        "0\n",
        "C0​ es la inversión inicial.\n"
      ],
      "metadata": {
        "id": "XjT8ni_TY3dy"
      }
    },
    {
      "cell_type": "markdown",
      "metadata": {
        "id": "175a0dee"
      },
      "source": [
        "## Interpretación\n",
        "\n",
        "- Si \\(VPN > 0\\), la inversión es rentable.\n",
        "- Si \\(VPN < 0\\), la inversión no es rentable.\n",
        "- Si \\(VPN = 0\\), la inversión no genera ni perdidas ni ganancias."
      ]
    },
    {
      "cell_type": "markdown",
      "source": [
        "## Enlace util\n",
        "\n",
        "Para obtener mas informacion sobre el valor presente neto,puedes consultar en el siguiente [enlace](https://www.gerencie.com/valor-presente-neto.html)"
      ],
      "metadata": {
        "id": "ZoV1wawJmvnx"
      }
    },
    {
      "cell_type": "code",
      "source": [],
      "metadata": {
        "id": "I_NZRbuZoNG1"
      },
      "execution_count": null,
      "outputs": []
    },
    {
      "cell_type": "markdown",
      "source": [
        "## Descripcion del proyecto\n",
        "\n",
        "\n",
        "la empresa está considerando un proyecto con una inversión inicial de 10.000 y espera recibir  flujos de caja de $3,000 en cada uno de los próximos tres años. La tasa de descuento es del 5%."
      ],
      "metadata": {
        "id": "-bIjLg9DF480"
      }
    },
    {
      "cell_type": "markdown",
      "source": [
        "## Declaracion de variables"
      ],
      "metadata": {
        "id": "nfYKXk4AIC2a"
      }
    },
    {
      "cell_type": "code",
      "source": [
        "Inversion_inicial = 10000\n",
        "flujo_ano_1 = 3000\n",
        "flujo_ano_2 = 3000\n",
        "flujo_ano_3 = 3000\n",
        "tasa_descuento = 0.05"
      ],
      "metadata": {
        "id": "4dkAaIcwHJHd"
      },
      "execution_count": 3,
      "outputs": []
    },
    {
      "cell_type": "markdown",
      "source": [
        "## Calculo del VPN"
      ],
      "metadata": {
        "id": "i1akZ3uGIL6e"
      }
    },
    {
      "cell_type": "code",
      "metadata": {
        "colab": {
          "base_uri": "https://localhost:8080/"
        },
        "id": "6e0ed65a",
        "outputId": "da4f4522-49a8-4969-80b2-d7bddb0c4e20"
      },
      "source": [
        "vpn=(flujo_ano_1/ (1+tasa_descuento)**1)+\\\n",
        " (flujo_ano_2/(1+tasa_descuento)**2)+\\\n",
        " (flujo_ano_3/(1+tasa_descuento)**3)-Inversion_inicial\n",
        "print(\"El valor presente neto (VPN) es:\", vpn)"
      ],
      "execution_count": 18,
      "outputs": [
        {
          "output_type": "stream",
          "name": "stdout",
          "text": [
            "El valor presente neto (VPN) es: -1830.2559118885656\n"
          ]
        }
      ]
    },
    {
      "cell_type": "code",
      "source": [
        "if vpn > 0:\n",
        "   print(\"El proyecto es viable,ya que el vpn es positivo. \")\n",
        "else:\n",
        "    print(\"El proyecto no es viable,ya que el vpn es negativo.\")"
      ],
      "metadata": {
        "colab": {
          "base_uri": "https://localhost:8080/"
        },
        "id": "6skE-1f3Rnke",
        "outputId": "c07251e3-850b-4601-8336-a75022abc0b4"
      },
      "execution_count": 20,
      "outputs": [
        {
          "output_type": "stream",
          "name": "stdout",
          "text": [
            "El proyecto no es viable,ya que el vpn es negativo.\n"
          ]
        }
      ]
    },
    {
      "cell_type": "code",
      "source": [],
      "metadata": {
        "id": "-DMSKOJ-S5r-"
      },
      "execution_count": null,
      "outputs": []
    }
  ]
}